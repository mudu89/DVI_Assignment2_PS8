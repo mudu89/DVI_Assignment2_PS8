{
 "cells": [
  {
   "cell_type": "markdown",
   "metadata": {
    "id": "afne2q8Jldv9"
   },
   "source": [
    "<img src = \"https://www.bits-pilani.ac.in/Uploads/Campus/BITS_university_logo.gif\">"
   ]
  },
  {
   "cell_type": "markdown",
   "metadata": {
    "id": "1xWUC9udldwe"
   },
   "source": [
    "<h1><center>Work Integrated Learning Programmes Division<br>\n",
    "M.Tech (Data Science and Engineering)<br> Data Visualization And Interpretation (DSECL ZG555))<br>\n",
    "Second Semester, 2025\n",
    "</center></h1>\n",
    "\n",
    "<h2><center>Assignment 2 – PS8 [Weightage 13%]</center></h2>"
   ]
  },
  {
   "cell_type": "markdown",
   "metadata": {
    "id": "6FJyEhOKldwg"
   },
   "source": [
    "<ol>\n",
    "  <li>Do not change the name of the data file that is shared with the problem statement.</li>\n",
    "  <li>If intermediate data files are created, retain in the present working directory and attach them during submission.</li>\n",
    "  <li>Retain the data file in the same directory as that of this workbook.</li>\n",
    "  <li>Retain the Visualizations that is produced in the file. Don't clear them away.</li>\n",
    "     <li><div class=\"alert-warning\">All the visuals should adhere to the visualization principles learnt in the Course and must be presentation ready. Most effective visuals would fetch maximum credits</div></li>    \n",
    "    <li><div class=\"alert-warning\">Submissions done via means other than Taxila will strictly be NOT graded.</div></li>\n",
    "</ol>"
   ]
  },
  {
   "cell_type": "markdown",
   "metadata": {
    "id": "WLfGBY_Gldwh"
   },
   "source": [
    "<style>\n",
    "table {\n",
    "  font-family: arial, sans-serif;\n",
    "  border-collapse: collapse;\n",
    "  width: 100%;\n",
    "}\n",
    "\n",
    "td, th {\n",
    "  border: 1px solid #dddddd;\n",
    "  text-align: left;\n",
    "  padding: 8px;\n",
    "}\n",
    "\n",
    "tr:nth-child(even) {\n",
    "  background-color: #dddddd;\n",
    "}\n",
    "</style>\n",
    "\n",
    "<h2>Group No: 55</h2>\n",
    "\n",
    "<table>\n",
    "  <tr>\n",
    "    <th>Full Name</th>\n",
    "    <th>BITS ID</th>\n",
    "  </tr>\n",
    "  <tr>\n",
    "    <td>ANITHA R</td>\n",
    "    <td>2024DA04165</td>\n",
    "  </tr>\n",
    "  <tr>\n",
    "    <td>MOHAMMED MUDASSIRULLAH SHERIFF</td>\n",
    "    <td>2024DA04200</td>\n",
    "  </tr>\n",
    "  <tr>\n",
    "    <td>SAI POOJA M S</td>\n",
    "    <td>2024DA04202</td>\n",
    "  </tr>\n",
    "   <tr>\n",
    "    <td>VINOTH TS</td>\n",
    "    <td>2024DA04220</td>\n",
    "  </tr>\n",
    "</table>"
   ]
  },
  {
   "cell_type": "markdown",
   "metadata": {
    "id": "btC8M3lnoUC9"
   },
   "source": [
    "<h3>Objective</h3>\n",
    "<h4>Identify the features which have high impact on attrition</h4>"
   ]
  },
  {
   "cell_type": "markdown",
   "metadata": {
    "id": "JXM36L3Bldwi"
   },
   "source": [
    "##  Download and Prep the Data: 1 Mark"
   ]
  },
  {
   "cell_type": "markdown",
   "metadata": {
    "id": "U6fcufFgdSJS"
   },
   "source": [
    "Import the modules needed"
   ]
  },
  {
   "cell_type": "code",
   "execution_count": 21,
   "metadata": {
    "id": "buRWPugAxqCI"
   },
   "outputs": [],
   "source": [
    "import pandas as pd\n",
    "import sys, os\n"
   ]
  },
  {
   "cell_type": "markdown",
   "metadata": {
    "id": "A3qzP0srdSJe"
   },
   "source": [
    "Download the dataset and read it into a dataframe"
   ]
  },
  {
   "cell_type": "code",
   "execution_count": 22,
   "metadata": {
    "id": "hBojtNk7xqrP"
   },
   "outputs": [
    {
     "name": "stdout",
     "output_type": "stream",
     "text": [
      "Current working directory: C:\\Users\\msf12\\OneDrive - Sky\\Documents\\BITS\\Semester 2\\DVI\\DVI_ASSIGNMENT2_PS8\\DVI_ASSIGNMENT2_PS8\\DVI_ASSIGNMENT2_PS8\n"
     ]
    }
   ],
   "source": [
    "dataset = 'dvi-a2-ps8-data.csv'\n",
    "print(\"Current working directory:\", os.getcwd())\n",
    "df = pd.read_csv(dataset)"
   ]
  },
  {
   "cell_type": "markdown",
   "metadata": {
    "id": "TfgXC25ndSJs"
   },
   "source": [
    "First five items in the dataset."
   ]
  },
  {
   "cell_type": "code",
   "execution_count": 23,
   "metadata": {
    "id": "hP4LBjwcxrKG"
   },
   "outputs": [
    {
     "data": {
      "text/html": [
       "<div>\n",
       "<style scoped>\n",
       "    .dataframe tbody tr th:only-of-type {\n",
       "        vertical-align: middle;\n",
       "    }\n",
       "\n",
       "    .dataframe tbody tr th {\n",
       "        vertical-align: top;\n",
       "    }\n",
       "\n",
       "    .dataframe thead th {\n",
       "        text-align: right;\n",
       "    }\n",
       "</style>\n",
       "<table border=\"1\" class=\"dataframe\">\n",
       "  <thead>\n",
       "    <tr style=\"text-align: right;\">\n",
       "      <th></th>\n",
       "      <th>Age</th>\n",
       "      <th>Attrition</th>\n",
       "      <th>BusinessTravel</th>\n",
       "      <th>DailyRate</th>\n",
       "      <th>Department</th>\n",
       "      <th>DistanceFromHome</th>\n",
       "      <th>Education</th>\n",
       "      <th>EducationField</th>\n",
       "      <th>EmployeeNumber</th>\n",
       "      <th>Gender</th>\n",
       "      <th>JobRole</th>\n",
       "      <th>JobSatisfaction</th>\n",
       "      <th>MaritalStatus</th>\n",
       "      <th>MonthlyIncome</th>\n",
       "      <th>NumCompaniesWorked</th>\n",
       "      <th>OverTime</th>\n",
       "      <th>PercentSalaryHike</th>\n",
       "      <th>PerformanceRating</th>\n",
       "      <th>StandardHours</th>\n",
       "      <th>TotalWorkingYears</th>\n",
       "      <th>YearsAtCompany</th>\n",
       "      <th>YearsInCurrentRole</th>\n",
       "      <th>YearsWithCurrManager</th>\n",
       "    </tr>\n",
       "  </thead>\n",
       "  <tbody>\n",
       "    <tr>\n",
       "      <th>0</th>\n",
       "      <td>41</td>\n",
       "      <td>Yes</td>\n",
       "      <td>Travel_Rarely</td>\n",
       "      <td>1102</td>\n",
       "      <td>Sales</td>\n",
       "      <td>1</td>\n",
       "      <td>College</td>\n",
       "      <td>Life Sciences</td>\n",
       "      <td>1</td>\n",
       "      <td>Female</td>\n",
       "      <td>Sales Executive</td>\n",
       "      <td>Very High</td>\n",
       "      <td>Single</td>\n",
       "      <td>5993</td>\n",
       "      <td>8</td>\n",
       "      <td>Yes</td>\n",
       "      <td>11</td>\n",
       "      <td>Excellent</td>\n",
       "      <td>80</td>\n",
       "      <td>8</td>\n",
       "      <td>6</td>\n",
       "      <td>4</td>\n",
       "      <td>5</td>\n",
       "    </tr>\n",
       "    <tr>\n",
       "      <th>1</th>\n",
       "      <td>49</td>\n",
       "      <td>No</td>\n",
       "      <td>Travel_Frequently</td>\n",
       "      <td>279</td>\n",
       "      <td>Research &amp; Development</td>\n",
       "      <td>8</td>\n",
       "      <td>Below College</td>\n",
       "      <td>Life Sciences</td>\n",
       "      <td>2</td>\n",
       "      <td>Male</td>\n",
       "      <td>Research Scientist</td>\n",
       "      <td>Medium</td>\n",
       "      <td>Married</td>\n",
       "      <td>5130</td>\n",
       "      <td>1</td>\n",
       "      <td>No</td>\n",
       "      <td>23</td>\n",
       "      <td>Outstanding</td>\n",
       "      <td>80</td>\n",
       "      <td>10</td>\n",
       "      <td>10</td>\n",
       "      <td>7</td>\n",
       "      <td>7</td>\n",
       "    </tr>\n",
       "    <tr>\n",
       "      <th>2</th>\n",
       "      <td>37</td>\n",
       "      <td>Yes</td>\n",
       "      <td>Travel_Rarely</td>\n",
       "      <td>1373</td>\n",
       "      <td>Research &amp; Development</td>\n",
       "      <td>2</td>\n",
       "      <td>College</td>\n",
       "      <td>Other</td>\n",
       "      <td>4</td>\n",
       "      <td>Male</td>\n",
       "      <td>Laboratory Technician</td>\n",
       "      <td>High</td>\n",
       "      <td>Single</td>\n",
       "      <td>2090</td>\n",
       "      <td>6</td>\n",
       "      <td>Yes</td>\n",
       "      <td>15</td>\n",
       "      <td>Excellent</td>\n",
       "      <td>80</td>\n",
       "      <td>7</td>\n",
       "      <td>0</td>\n",
       "      <td>0</td>\n",
       "      <td>0</td>\n",
       "    </tr>\n",
       "    <tr>\n",
       "      <th>3</th>\n",
       "      <td>33</td>\n",
       "      <td>No</td>\n",
       "      <td>Travel_Frequently</td>\n",
       "      <td>1392</td>\n",
       "      <td>Research &amp; Development</td>\n",
       "      <td>3</td>\n",
       "      <td>Master</td>\n",
       "      <td>Life Sciences</td>\n",
       "      <td>5</td>\n",
       "      <td>Female</td>\n",
       "      <td>Research Scientist</td>\n",
       "      <td>High</td>\n",
       "      <td>Married</td>\n",
       "      <td>2909</td>\n",
       "      <td>1</td>\n",
       "      <td>Yes</td>\n",
       "      <td>11</td>\n",
       "      <td>Excellent</td>\n",
       "      <td>80</td>\n",
       "      <td>8</td>\n",
       "      <td>8</td>\n",
       "      <td>7</td>\n",
       "      <td>0</td>\n",
       "    </tr>\n",
       "    <tr>\n",
       "      <th>4</th>\n",
       "      <td>27</td>\n",
       "      <td>No</td>\n",
       "      <td>Travel_Rarely</td>\n",
       "      <td>591</td>\n",
       "      <td>Research &amp; Development</td>\n",
       "      <td>2</td>\n",
       "      <td>Below College</td>\n",
       "      <td>Medical</td>\n",
       "      <td>7</td>\n",
       "      <td>Male</td>\n",
       "      <td>Laboratory Technician</td>\n",
       "      <td>Medium</td>\n",
       "      <td>Married</td>\n",
       "      <td>3468</td>\n",
       "      <td>9</td>\n",
       "      <td>No</td>\n",
       "      <td>12</td>\n",
       "      <td>Excellent</td>\n",
       "      <td>80</td>\n",
       "      <td>6</td>\n",
       "      <td>2</td>\n",
       "      <td>2</td>\n",
       "      <td>2</td>\n",
       "    </tr>\n",
       "  </tbody>\n",
       "</table>\n",
       "</div>"
      ],
      "text/plain": [
       "   Age Attrition     BusinessTravel  DailyRate              Department  \\\n",
       "0   41       Yes      Travel_Rarely       1102                   Sales   \n",
       "1   49        No  Travel_Frequently        279  Research & Development   \n",
       "2   37       Yes      Travel_Rarely       1373  Research & Development   \n",
       "3   33        No  Travel_Frequently       1392  Research & Development   \n",
       "4   27        No      Travel_Rarely        591  Research & Development   \n",
       "\n",
       "   DistanceFromHome      Education EducationField  EmployeeNumber  Gender  \\\n",
       "0                 1        College  Life Sciences               1  Female   \n",
       "1                 8  Below College  Life Sciences               2    Male   \n",
       "2                 2        College          Other               4    Male   \n",
       "3                 3         Master  Life Sciences               5  Female   \n",
       "4                 2  Below College        Medical               7    Male   \n",
       "\n",
       "                 JobRole JobSatisfaction MaritalStatus  MonthlyIncome  \\\n",
       "0        Sales Executive       Very High        Single           5993   \n",
       "1     Research Scientist          Medium       Married           5130   \n",
       "2  Laboratory Technician            High        Single           2090   \n",
       "3     Research Scientist            High       Married           2909   \n",
       "4  Laboratory Technician          Medium       Married           3468   \n",
       "\n",
       "   NumCompaniesWorked OverTime  PercentSalaryHike PerformanceRating  \\\n",
       "0                   8      Yes                 11         Excellent   \n",
       "1                   1       No                 23       Outstanding   \n",
       "2                   6      Yes                 15         Excellent   \n",
       "3                   1      Yes                 11         Excellent   \n",
       "4                   9       No                 12         Excellent   \n",
       "\n",
       "   StandardHours  TotalWorkingYears  YearsAtCompany  YearsInCurrentRole  \\\n",
       "0             80                  8               6                   4   \n",
       "1             80                 10              10                   7   \n",
       "2             80                  7               0                   0   \n",
       "3             80                  8               8                   7   \n",
       "4             80                  6               2                   2   \n",
       "\n",
       "   YearsWithCurrManager  \n",
       "0                     5  \n",
       "1                     7  \n",
       "2                     0  \n",
       "3                     0  \n",
       "4                     2  "
      ]
     },
     "execution_count": 23,
     "metadata": {},
     "output_type": "execute_result"
    }
   ],
   "source": [
    "pd.set_option('display.max_columns', None)\n",
    "df.head()"
   ]
  },
  {
   "cell_type": "markdown",
   "metadata": {
    "id": "jTnkoY6xdSJz"
   },
   "source": [
    "Find out how many entries there are in the dataset."
   ]
  },
  {
   "cell_type": "code",
   "execution_count": 24,
   "metadata": {
    "id": "y2sLJxgexttv"
   },
   "outputs": [
    {
     "name": "stdout",
     "output_type": "stream",
     "text": [
      "Number of rows: 1470, Number of columns: 23\n"
     ]
    }
   ],
   "source": [
    "rows, columns = df.shape\n",
    "print(f\"Number of rows: {rows}, Number of columns: {columns}\")"
   ]
  },
  {
   "cell_type": "markdown",
   "metadata": {
    "id": "Lh_NVnlKdSKB"
   },
   "source": [
    "Clean up data. <br>\n",
    "Remove unnecessary columns. Mention the reasons.<br>\n",
    "Show the data."
   ]
  },
  {
   "cell_type": "code",
   "execution_count": 53,
   "metadata": {
    "id": "pK1PVgdSxyj1"
   },
   "outputs": [
    {
     "name": "stdout",
     "output_type": "stream",
     "text": [
      "<class 'pandas.core.frame.DataFrame'>\n",
      "RangeIndex: 1470 entries, 0 to 1469\n",
      "Data columns (total 23 columns):\n",
      " #   Column                Non-Null Count  Dtype \n",
      "---  ------                --------------  ----- \n",
      " 0   Age                   1470 non-null   int64 \n",
      " 1   Attrition             1470 non-null   object\n",
      " 2   BusinessTravel        1470 non-null   object\n",
      " 3   DailyRate             1470 non-null   int64 \n",
      " 4   Department            1470 non-null   object\n",
      " 5   DistanceFromHome      1470 non-null   int64 \n",
      " 6   Education             1470 non-null   object\n",
      " 7   EducationField        1470 non-null   object\n",
      " 8   EmployeeNumber        1470 non-null   int64 \n",
      " 9   Gender                1470 non-null   object\n",
      " 10  JobRole               1470 non-null   object\n",
      " 11  JobSatisfaction       1470 non-null   object\n",
      " 12  MaritalStatus         1470 non-null   object\n",
      " 13  MonthlyIncome         1470 non-null   int64 \n",
      " 14  NumCompaniesWorked    1470 non-null   int64 \n",
      " 15  OverTime              1470 non-null   object\n",
      " 16  PercentSalaryHike     1470 non-null   int64 \n",
      " 17  PerformanceRating     1470 non-null   object\n",
      " 18  StandardHours         1470 non-null   int64 \n",
      " 19  TotalWorkingYears     1470 non-null   int64 \n",
      " 20  YearsAtCompany        1470 non-null   int64 \n",
      " 21  YearsInCurrentRole    1470 non-null   int64 \n",
      " 22  YearsWithCurrManager  1470 non-null   int64 \n",
      "dtypes: int64(12), object(11)\n",
      "memory usage: 264.3+ KB\n",
      "\n",
      "\n",
      "Numerical fields description:\n",
      "               Age    DailyRate  DistanceFromHome  EmployeeNumber  \\\n",
      "count  1470.000000  1470.000000       1470.000000     1470.000000   \n",
      "mean     36.923810   802.485714          9.192517     1024.865306   \n",
      "std       9.135373   403.509100          8.106864      602.024335   \n",
      "min      18.000000   102.000000          1.000000        1.000000   \n",
      "25%      30.000000   465.000000          2.000000      491.250000   \n",
      "50%      36.000000   802.000000          7.000000     1020.500000   \n",
      "75%      43.000000  1157.000000         14.000000     1555.750000   \n",
      "max      60.000000  1499.000000         29.000000     2068.000000   \n",
      "\n",
      "       MonthlyIncome  NumCompaniesWorked  PercentSalaryHike  StandardHours  \\\n",
      "count    1470.000000         1470.000000        1470.000000         1470.0   \n",
      "mean     6502.931293            2.693197          15.209524           80.0   \n",
      "std      4707.956783            2.498009           3.659938            0.0   \n",
      "min      1009.000000            0.000000          11.000000           80.0   \n",
      "25%      2911.000000            1.000000          12.000000           80.0   \n",
      "50%      4919.000000            2.000000          14.000000           80.0   \n",
      "75%      8379.000000            4.000000          18.000000           80.0   \n",
      "max     19999.000000            9.000000          25.000000           80.0   \n",
      "\n",
      "       TotalWorkingYears  YearsAtCompany  YearsInCurrentRole  \\\n",
      "count        1470.000000     1470.000000         1470.000000   \n",
      "mean           11.279592        7.008163            4.229252   \n",
      "std             7.780782        6.126525            3.623137   \n",
      "min             0.000000        0.000000            0.000000   \n",
      "25%             6.000000        3.000000            2.000000   \n",
      "50%            10.000000        5.000000            3.000000   \n",
      "75%            15.000000        9.000000            7.000000   \n",
      "max            40.000000       40.000000           18.000000   \n",
      "\n",
      "       YearsWithCurrManager  \n",
      "count           1470.000000  \n",
      "mean               4.123129  \n",
      "std                3.568136  \n",
      "min                0.000000  \n",
      "25%                2.000000  \n",
      "50%                3.000000  \n",
      "75%                7.000000  \n",
      "max               17.000000  \n",
      "\n",
      "\n",
      "Categorical fields description:\n",
      "       Attrition BusinessTravel              Department Education  \\\n",
      "count       1470           1470                    1470      1470   \n",
      "unique         2              3                       3         5   \n",
      "top           No  Travel_Rarely  Research & Development  Bachelor   \n",
      "freq        1233           1043                     961       572   \n",
      "\n",
      "       EducationField Gender          JobRole JobSatisfaction MaritalStatus  \\\n",
      "count            1470   1470             1470            1470          1470   \n",
      "unique              6      2                9               4             3   \n",
      "top     Life Sciences   Male  Sales Executive       Very High       Married   \n",
      "freq              606    882              326             459           673   \n",
      "\n",
      "       OverTime PerformanceRating  \n",
      "count      1470              1470  \n",
      "unique        2                 2  \n",
      "top          No         Excellent  \n",
      "freq       1054              1244  \n",
      "\n",
      "\n",
      "No missing values found in the dataset.\n",
      "\n",
      "\n",
      "No duplicate rows found in the dataset.\n",
      "\n",
      "\n",
      "Unique values in each column:\n",
      "Age: 43 unique values\n",
      "Attrition: 2 unique values\n",
      "BusinessTravel: 3 unique values\n",
      "DailyRate: 886 unique values\n",
      "Department: 3 unique values\n",
      "DistanceFromHome: 29 unique values\n",
      "Education: 5 unique values\n",
      "EducationField: 6 unique values\n",
      "EmployeeNumber: 1470 unique values\n",
      "Gender: 2 unique values\n",
      "JobRole: 9 unique values\n",
      "JobSatisfaction: 4 unique values\n",
      "MaritalStatus: 3 unique values\n",
      "MonthlyIncome: 1349 unique values\n",
      "NumCompaniesWorked: 10 unique values\n",
      "OverTime: 2 unique values\n",
      "PercentSalaryHike: 15 unique values\n",
      "PerformanceRating: 2 unique values\n",
      "StandardHours: 1 unique values\n",
      "TotalWorkingYears: 40 unique values\n",
      "YearsAtCompany: 37 unique values\n",
      "YearsInCurrentRole: 19 unique values\n",
      "YearsWithCurrManager: 18 unique values\n",
      "\n",
      "\n",
      "MonthlyIncome: 114 \n",
      " Lower bound: -5291.0 \n",
      " Upper bound: 16581.0 \n",
      " outliers: 16595, 16598, 16606, 16627, 16659, 16704, 16752, 16756, 16792, 16799, 16823, 16835, 16856, 16872, 16880, 16885, 16959, 17007, 17046, 17048, 17068, 17099, 17123, 17159, 17169, 17174, 17181, 17328, 17399, 17426, 17444, 17465, 17567, 17584, 17603, 17639, 17650, 17665, 17779, 17856, 17861, 17875, 17924, 18041, 18061, 18172, 18200, 18213, 18265, 18300, 18303, 18430, 18606, 18665, 18711, 18722, 18740, 18789, 18824, 18844, 18880, 18947, 19033, 19038, 19045, 19049, 19068, 19081, 19094, 19141, 19144, 19161, 19187, 19189, 19190, 19197, 19202, 19232, 19237, 19246, 19272, 19328, 19331, 19392, 19406, 19419, 19431, 19436, 19502, 19513, 19517, 19537, 19545, 19566, 19586, 19613, 19626, 19627, 19636, 19658, 19665, 19701, 19717, 19740, 19833, 19845, 19847, 19859, 19926, 19943, 19973, 19999\n",
      "NumCompaniesWorked: 52 \n",
      " Lower bound: -3.5 \n",
      " Upper bound: 8.5 \n",
      " outliers: 9\n",
      "TotalWorkingYears: 63 \n",
      " Lower bound: -7.5 \n",
      " Upper bound: 28.5 \n",
      " outliers: 29, 30, 31, 32, 33, 34, 35, 36, 37, 38, 40\n",
      "YearsAtCompany: 104 \n",
      " Lower bound: -6.0 \n",
      " Upper bound: 18.0 \n",
      " outliers: 19, 20, 21, 22, 23, 24, 25, 26, 27, 29, 30, 31, 32, 33, 34, 36, 37, 40\n",
      "YearsInCurrentRole: 21 \n",
      " Lower bound: -5.5 \n",
      " Upper bound: 14.5 \n",
      " outliers: 15, 16, 17, 18\n",
      "YearsWithCurrManager: 14 \n",
      " Lower bound: -5.5 \n",
      " Upper bound: 14.5 \n",
      " outliers: 15, 16, 17\n"
     ]
    }
   ],
   "source": [
    "# Check for data types\n",
    "df.info()\n",
    "print(\"\\n\")\n",
    "\n",
    "# Describe the dataset for numerical fields\n",
    "numerical_description = df.describe()\n",
    "print(\"Numerical fields description:\")\n",
    "print(numerical_description)\n",
    "print(\"\\n\")\n",
    "\n",
    "# describe the dataset for other fields\n",
    "categorical_description = df.describe(include=['object'])\n",
    "print(\"Categorical fields description:\")\n",
    "print(categorical_description)\n",
    "print(\"\\n\")\n",
    "\n",
    "#Check for null/missing values\n",
    "missing_values = df.isna().sum()\n",
    "if missing_values.any():\n",
    "    print(\"Missing values in each column:\")\n",
    "    print(missing_values)\n",
    "else:\n",
    "    print(\"No missing values found in the dataset.\")\n",
    "print(\"\\n\")\n",
    "\n",
    "# Check for duplicate rows\n",
    "duplicate_rows = df.duplicated().sum()\n",
    "if duplicate_rows > 0:\n",
    "    print(f\"Duplicate rows found: {duplicate_rows}\")\n",
    "else:\n",
    "    print(\"No duplicate rows found in the dataset.\")\n",
    "print(\"\\n\")\n",
    "\n",
    "# Check for unique values in each column\n",
    "unique_values = {col: df[col].nunique() for col in df.columns}\n",
    "print(\"Unique values in each column:\")\n",
    "for col, count in unique_values.items():\n",
    "    print(f\"{col}: {count} unique values\")\n",
    "\n",
    "print(\"\\n\")\n",
    "\n",
    "# Outlier detection using IQR\n",
    "for column in df.select_dtypes(include=['float64', 'int64']).columns:\n",
    "    Q1 = df[column].quantile(0.25)\n",
    "    Q3 = df[column].quantile(0.75)\n",
    "    IQR = Q3 - Q1\n",
    "    lower_bound = Q1 - 1.5 * IQR\n",
    "    upper_bound = Q3 + 1.5 * IQR\n",
    "    outliers = df[(df[column] < lower_bound) | (df[column] > upper_bound)][column]\n",
    "    if not outliers.empty:\n",
    "        print(f\"{column}: {len(outliers.tolist())} \\n Lower bound: {lower_bound} \\n Upper bound: {upper_bound} \\n outliers: {', '.join(map(str, sorted(set(outliers.tolist()))))}\")\n"
   ]
  },
  {
   "cell_type": "code",
   "execution_count": null,
   "metadata": {
    "id": "dvdwdyJWxyUX"
   },
   "outputs": [],
   "source": []
  },
  {
   "cell_type": "code",
   "execution_count": null,
   "metadata": {
    "id": "E3crExp5xyBH"
   },
   "outputs": [],
   "source": []
  },
  {
   "cell_type": "markdown",
   "metadata": {
    "id": "sLfPLw7JdSKE"
   },
   "source": [
    "# Visualisation Questions - 2 X 5 = 10 Marks"
   ]
  },
  {
   "cell_type": "markdown",
   "metadata": {
    "id": "YiNG2vD5JWTp"
   },
   "source": [
    "### Question 1\n",
    "<h4>Find the correlation between all numerical features.<br><br>\n",
    "    Write the python code in the below cell to create appropriate visual to perform the above task.\n",
    "    <h4>Answer in markdown cells below the visual <br><br>\n",
    "        1.Summarise your findings from the visual.<br>\n",
    "            2.The reason for selecting the chart type you did <br>\n",
    "                3.Mention the pre-attentive attributes used.(atleast 2)<br>\n",
    "                    4.Mention the gestalt principles used.(atleast 2)<br>\n",
    "   "
   ]
  },
  {
   "cell_type": "code",
   "execution_count": null,
   "metadata": {
    "id": "xvK0LNQDx0vu"
   },
   "outputs": [],
   "source": []
  },
  {
   "cell_type": "markdown",
   "metadata": {
    "id": "igE2Vv5kdSKL"
   },
   "source": [
    "### Question 2\n",
    "<h4>Find the distribution of age in the dataset. Identify which age group is most prone to attrition.<br>\n",
    "\n",
    "Write the python code in the below cell to create the appropriate visual to perform the above task .\n",
    "<h4>Answer in markdown cells below the visual <br><br>\n",
    "    1.Summarise your findings from the visual.<br>\n",
    "    2.The reason for selecting the chart type you did <br>\n",
    "    3.Mention the pre-attentive attributes used.(atleast 2)<br>\n",
    "    4.Mention the gestalt principles used.(atleast 2)<br>  \n"
   ]
  },
  {
   "cell_type": "code",
   "execution_count": null,
   "metadata": {
    "id": "i-amrdFPx25_"
   },
   "outputs": [],
   "source": []
  },
  {
   "cell_type": "markdown",
   "metadata": {
    "id": "OHSTIRMrdSKO"
   },
   "source": [
    "### Question 3\n",
    "<h4>Analyse the departmentwise attrition rate.<br>\n",
    "\n",
    "Write the python code in the below cell to create the appropriate visual to perform the above task .\n",
    "<h4>Answer in markdown cells below the visual <br><br>\n",
    "    1.Summarise your findings from the visual.<br>\n",
    "    2.The reason for selecting the chart type you did <br>\n",
    "    3.Mention the pre-attentive attributes used.(atleast 2)<br>\n",
    "    4.Mention the gestalt principles used.(atleast 2)<br>  \n"
   ]
  },
  {
   "cell_type": "code",
   "execution_count": null,
   "metadata": {
    "id": "2UNGxG-4x5Dc"
   },
   "outputs": [],
   "source": []
  },
  {
   "cell_type": "markdown",
   "metadata": {
    "id": "Mab4VeuQdSKQ"
   },
   "source": [
    "### Question 4\n",
    "<h4>Identify the top 5 job roles with highest attrition rate.<br>\n",
    "\n",
    "Write the python code in the below cell to create the appropriate visual to perform the above task .\n",
    "<h4>Answer in markdown cells below the visual <br><br>\n",
    "    1.Summarise your findings from the visual.<br>\n",
    "    2.The reason for selecting the chart type you did <br>\n",
    "    3.Mention the pre-attentive attributes used.(atleast 2)<br>\n",
    "    4.Mention the gestalt principles used.(atleast 2)<br>  \n"
   ]
  },
  {
   "cell_type": "code",
   "execution_count": null,
   "metadata": {
    "id": "84pPyfQjx6w9"
   },
   "outputs": [],
   "source": []
  },
  {
   "cell_type": "markdown",
   "metadata": {
    "id": "z15B_xDbdSKS"
   },
   "source": [
    "### Question 5\n",
    "<h3> Multivariate analysis\n",
    "<h4>Identify the top 2 highly correlated features.Analyse(use a single visual), how they relate to \"number of years in the company\" and their combined effect on attrition.<br>\n",
    "    \n",
    "Write the python code in the below cell to create the appropriate visual to perform the above task .\n",
    "<h4>Answer in markdown cells below the visual <br><br>\n",
    "    1.Summarise your findings from the visual.<br>\n",
    "    2.The reason for selecting the chart type you did <br>\n",
    "    3.Mention the pre-attentive attributes used.(atleast 2)<br>\n",
    "    4.Mention the gestalt principles used.(atleast 2)<br>  "
   ]
  },
  {
   "cell_type": "code",
   "execution_count": null,
   "metadata": {
    "id": "zQWH46kRx-lc"
   },
   "outputs": [],
   "source": []
  },
  {
   "cell_type": "markdown",
   "metadata": {
    "id": "U1e-dH8lJWT1"
   },
   "source": [
    "# Group's choice-2 Marks\n",
    " \n",
    "#### Frame 1 (more) question which will help in the EDA(Exploratory Data Analysis) of the given data set and answer the same using the best visual.\n",
    " \n",
    " 1. Write the question in a markdown cell\n",
    " 2. Below the question,in a coding cell,write the python code to create the visual to answer the question  \n",
    "\n",
    "<h4> Answer in markdown cells below the visual <br><br>\n",
    "   1.Summarise your findings from the visual.<br>\n",
    "   2.The reason for selecting the chart type you did <br>\n",
    "   3.Mention the pre-attentive attributes used.(atleast 2)<br>\n",
    "   4.Mention the gestalt principles used.(atleast 2)<br>\n",
    "  "
   ]
  },
  {
   "cell_type": "code",
   "execution_count": null,
   "metadata": {
    "id": "6sQHAZEpVy1x"
   },
   "outputs": [],
   "source": []
  },
  {
   "cell_type": "markdown",
   "metadata": {
    "id": "nSitHsYbdSKV"
   },
   "source": [
    "<h1><center> ************ END OF ASSIGNMENT ****************</center></h1>"
   ]
  }
 ],
 "metadata": {
  "colab": {
   "collapsed_sections": [],
   "name": "dvi-a2-ps8-wb.ipynb",
   "provenance": [
    {
     "file_id": "1NeDTb6dqz2_7DTbFfoNhplvJwTZfN-m0",
     "timestamp": 1644616349958
    },
    {
     "file_id": "11Wuz0dS05u-iqFAGMhnMwFSB51S5Dbk4",
     "timestamp": 1644498551438
    }
   ]
  },
  "kernelspec": {
   "display_name": "Python 3 (ipykernel)",
   "language": "python",
   "name": "python3"
  },
  "language_info": {
   "codemirror_mode": {
    "name": "ipython",
    "version": 3
   },
   "file_extension": ".py",
   "mimetype": "text/x-python",
   "name": "python",
   "nbconvert_exporter": "python",
   "pygments_lexer": "ipython3",
   "version": "3.11.9"
  }
 },
 "nbformat": 4,
 "nbformat_minor": 0
}
